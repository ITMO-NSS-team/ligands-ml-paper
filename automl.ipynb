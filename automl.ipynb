{
 "cells": [
  {
   "metadata": {},
   "cell_type": "code",
   "source": "!unzip Gd_fps.zip",
   "id": "eae6eee72381cdc1",
   "outputs": [],
   "execution_count": null
  },
  {
   "metadata": {},
   "cell_type": "code",
   "source": [
    "import pandas as pd\n",
    "import numpy as np\n",
    "import os\n",
    "import random\n",
    "import warnings\n",
    "\n",
    "warnings.filterwarnings(\"ignore\", category=UserWarning)"
   ],
   "id": "a9b6eae4a933d413",
   "outputs": [],
   "execution_count": null
  },
  {
   "metadata": {},
   "cell_type": "code",
   "source": [
    "def seed_everything(seed=42):\n",
    "    np.random.seed(seed)\n",
    "    random.seed(seed)\n",
    "    os.environ['PYTHONHASHSEED'] = str(seed)\n",
    "\n",
    "seed_everything(seed=42)"
   ],
   "id": "14b6dae8be87a728",
   "outputs": [],
   "execution_count": null
  },
  {
   "metadata": {},
   "cell_type": "code",
   "source": [
    "def load_datasets(path: str):\n",
    "    files = [file for file in os.listdir(path) if file.endswith('.csv')]\n",
    "    datasets = {}\n",
    "    for file in files:\n",
    "        df = pd.read_csv(os.path.join(path, file))\n",
    "        datasets[file] = df\n",
    "    return datasets"
   ],
   "id": "122c7ba6ce9a2fa6",
   "outputs": [],
   "execution_count": null
  },
  {
   "metadata": {},
   "cell_type": "code",
   "source": "datasets = load_datasets(\".\")",
   "id": "a8e0e258f244a1a9",
   "outputs": [],
   "execution_count": null
  },
  {
   "metadata": {},
   "cell_type": "code",
   "source": [
    "from sklearn.feature_selection import VarianceThreshold\n",
    "\n",
    "\n",
    "def filter_var(df: pd.DataFrame) -> tuple[np.ndarray, np.ndarray]:\n",
    "    feature_cols = [c for c in df.columns if c != \"lgK\"]\n",
    "    X = df[feature_cols].astype(np.float32).values\n",
    "    y = df[\"lgK\"].values\n",
    "    vt = VarianceThreshold(threshold=0.01)  # remove features with <1% variance\n",
    "    X = vt.fit_transform(X)\n",
    "    print(f\"Reduced from {len(feature_cols)} to {X.shape[1]} features\")\n",
    "    return X, y"
   ],
   "id": "156d32e12e236d03",
   "outputs": [],
   "execution_count": null
  },
  {
   "metadata": {},
   "cell_type": "code",
   "source": [
    "def cross_validate(X, y, model, n_splits=5):\n",
    "    kf = KFold(n_splits=n_splits, shuffle=True, random_state=42)\n",
    "    cv_results = {}\n",
    "    for fold, (train_index, test_index) in enumerate(kf.split(X)):\n",
    "        print(f\"Fold {fold}\")\n",
    "        X_train, X_test = X[train_index], X[test_index]\n",
    "        y_train, y_test = y[train_index], y[test_index]\n",
    "        \n",
    "        model.fit(X_train, y_train)\n",
    "        y_pred = model.predict(X_test)\n",
    "        \n",
    "        rmse = mean_squared_error(y_test, y_pred)\n",
    "        r2 = r2_score(y_test, y_pred)\n",
    "        \n",
    "        cv_results[fold] = {\"rmse\": rmse, \"r2\": r2}\n",
    "        print(f\"  RMSE: {rmse}, R2: {r2}\")\n",
    "    return cv_results"
   ],
   "id": "a90991abe0abfa90",
   "outputs": [],
   "execution_count": null
  },
  {
   "metadata": {},
   "cell_type": "code",
   "source": [
    "from sklearn.metrics import mean_squared_error, r2_score\n",
    "from sklearn.model_selection import train_test_split, KFold\n",
    "\n",
    "\n",
    "def run_model(X, y, model):\n",
    "    X_train, X_test, y_train, y_test = train_test_split(\n",
    "        X, y, test_size=0.2, random_state=42\n",
    "    )\n",
    "    cv_scores = cross_validate(X, y, model)\n",
    "    results = {\"cv_scores\": cv_scores}\n",
    "    print(\"CV R2 scores:\", cv_scores)\n",
    "    \n",
    "    pipeline = model.fit(X_train, y_train)\n",
    "    y_pred = model.predict(X_test)\n",
    "    test_rmse = mean_squared_error(y_test, y_pred)\n",
    "    test_r2 = r2_score(y_test, y_pred)\n",
    "    results.update({\"test_rmse\": test_rmse, \"test_r2\": test_r2})\n",
    "    results.update({\"pipeline\": pipeline})\n",
    "    print(\"Test RMSE:\", test_rmse)\n",
    "    print(\"Test R2:\", test_r2)\n",
    "    \n",
    "    return results"
   ],
   "id": "1a0d46ea968a6a1a",
   "outputs": [],
   "execution_count": null
  },
  {
   "metadata": {},
   "cell_type": "code",
   "source": [
    "import logging\n",
    "\n",
    "timeout = 3.\n",
    "n_jobs = -1\n",
    "logging_level = logging.FATAL"
   ],
   "id": "bc689df239dcb3ee",
   "outputs": [],
   "execution_count": null
  },
  {
   "metadata": {},
   "cell_type": "code",
   "source": "all_results = {}",
   "id": "bdec8893e2b6e9ab",
   "outputs": [],
   "execution_count": null
  },
  {
   "metadata": {},
   "cell_type": "code",
   "source": [
    "from fedot import Fedot\n",
    "\n",
    "for dataset_name in datasets:\n",
    "    df = datasets[dataset_name]\n",
    "    model = Fedot(\n",
    "            problem='regression', \n",
    "            timeout=timeout, \n",
    "            n_jobs=n_jobs, \n",
    "            logging_level=logging_level,\n",
    "            seed=42\n",
    "        )\n",
    "    print(f\"Running FEDOT on {dataset_name}\")\n",
    "    X, y = filter_var(df)\n",
    "    results = run_model(X, y, model)\n",
    "    all_results[dataset_name] = results"
   ],
   "id": "36b89ad9b349c238",
   "outputs": [],
   "execution_count": null
  }
 ],
 "metadata": {
  "kernelspec": {
   "display_name": "Python 3",
   "language": "python",
   "name": "python3"
  },
  "language_info": {
   "codemirror_mode": {
    "name": "ipython",
    "version": 2
   },
   "file_extension": ".py",
   "mimetype": "text/x-python",
   "name": "python",
   "nbconvert_exporter": "python",
   "pygments_lexer": "ipython2",
   "version": "2.7.6"
  }
 },
 "nbformat": 4,
 "nbformat_minor": 5
}
