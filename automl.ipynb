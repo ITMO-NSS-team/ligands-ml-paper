{
 "cells": [
  {
   "metadata": {},
   "cell_type": "code",
   "source": [
    "import numpy as np\n",
    "from sklearn.feature_selection import f_regression\n",
    "from fedot.core.pipelines.node import PipelineNode\n",
    "from fedot.core.pipelines.pipeline import Pipeline\n",
    "import os\n",
    "import json\n",
    "import pandas as pd\n",
    "from matplotlib import pyplot as plt\n",
    "\n",
    "from utils import seed_everything\n",
    "from utils import load_datasets\n",
    "from pipeline import Experiment, ModelFactory, Evaluator\n",
    "from fedot import Fedot"
   ],
   "id": "b31d938c5298717f",
   "outputs": [],
   "execution_count": null
  },
  {
   "metadata": {},
   "cell_type": "code",
   "source": "!unzip Gd_fps.zip",
   "id": "eae6eee72381cdc1",
   "outputs": [],
   "execution_count": null
  },
  {
   "metadata": {},
   "cell_type": "code",
   "source": "SEED = 42",
   "id": "c68ea17ef592ceab",
   "outputs": [],
   "execution_count": null
  },
  {
   "metadata": {},
   "cell_type": "code",
   "source": "seed_everything(SEED)",
   "id": "ba76d8f4746216bb",
   "outputs": [],
   "execution_count": null
  },
  {
   "metadata": {},
   "cell_type": "code",
   "source": "datasets = load_datasets(\"Gd_fps\")",
   "id": "a8e0e258f244a1a9",
   "outputs": [],
   "execution_count": null
  },
  {
   "metadata": {},
   "cell_type": "code",
   "source": [
    "lgbm_kwargs = dict(\n",
    "        n_estimators=600,\n",
    "        learning_rate=0.03,\n",
    "        num_leaves=15,\n",
    "        min_data_in_leaf=5,          # allow small leaves\n",
    "        feature_fraction=0.7,\n",
    "        bagging_fraction=0.8,\n",
    "        bagging_freq=1,\n",
    "        reg_alpha=0.0,\n",
    "        reg_lambda=1.0,\n",
    "        random_state=SEED\n",
    "    )"
   ],
   "id": "4ee916c15687aa33",
   "outputs": [],
   "execution_count": null
  },
  {
   "metadata": {},
   "cell_type": "code",
   "source": [
    "from fedot.core.pipelines.pipeline_builder import PipelineBuilder\n",
    "\n",
    "initial_assumption = PipelineBuilder().add_node('lgbmreg', params=lgbm_kwargs).build()"
   ],
   "id": "524236dacb048db9",
   "outputs": [],
   "execution_count": null
  },
  {
   "metadata": {},
   "cell_type": "code",
   "source": [
    "from fedot.core.repository.metrics_repository import RegressionMetricsEnum\n",
    "\n",
    "fedot_kwargs = dict(\n",
    "    problem='regression',\n",
    "    timeout=60,\n",
    "    n_jobs=-1,\n",
    "    logging_level=50,\n",
    "    initial_assumption=initial_assumption,\n",
    "    max_depth=3,\n",
    "    history_dir=\"fedot_history\",\n",
    "    seed=SEED,\n",
    "    preset=\"best_quality\",\n",
    "    metric='rmse',\n",
    "    with_tuning=True,\n",
    ")"
   ],
   "id": "bc689df239dcb3ee",
   "outputs": [],
   "execution_count": null
  },
  {
   "metadata": {},
   "cell_type": "code",
   "source": "n_splits = None",
   "id": "cb7bf5f73dab08d7",
   "outputs": [],
   "execution_count": null
  },
  {
   "metadata": {},
   "cell_type": "code",
   "source": "fedot = ModelFactory(Fedot, fedot_kwargs)",
   "id": "e152743de22a1a11",
   "outputs": [],
   "execution_count": null
  },
  {
   "metadata": {},
   "cell_type": "code",
   "source": "evaluator = Evaluator()",
   "id": "1348e7f47d123e1",
   "outputs": [],
   "execution_count": null
  },
  {
   "metadata": {},
   "cell_type": "code",
   "source": [
    "experiment = Experiment(\n",
    "    datasets=datasets,\n",
    "    target_col=\"lgK\",\n",
    "    results_dir='results',\n",
    "    model_factory=fedot,\n",
    "    n_splits=n_splits,\n",
    "    seed=SEED,\n",
    "    var_threshold=0.00,\n",
    "    fs_func=None,\n",
    "    k_percents=None,\n",
    "    evaluator=evaluator,\n",
    ")"
   ],
   "id": "7691ce092e3d1b40",
   "outputs": [],
   "execution_count": null
  },
  {
   "metadata": {},
   "cell_type": "code",
   "source": "results = experiment.run()",
   "id": "6f81eda55bd416f9",
   "outputs": [
    {
     "name": "stdout",
     "output_type": "stream",
     "text": [
      "  0%|          | 169/100000 [28:18<278:41:13, 10.05s/trial, best loss: 3.6441570830643215]\n",
      "Results saved to results\\Gd_ctopo_fp_skl_da_bonds\\all_none.json\n",
      "\n",
      "=== Dataset: Gd_ctopo_fp_skl_da_skl ===\n",
      "Removed 1902 low-variance features (kept 146 of 2048)\n"
     ]
    },
    {
     "name": "stderr",
     "output_type": "stream",
     "text": [
      "Generations:   1%|          | 67/10000 [09:58<24:38:35,  8.93s/gen]\n"
     ]
    },
    {
     "name": "stdout",
     "output_type": "stream",
     "text": [
      "  1%|          | 1013/100000 [49:58<81:24:04,  2.96s/trial, best loss: 3.8370258910085226]\n",
      "Results saved to results\\Gd_ctopo_fp_skl_da_skl\\all_none.json\n",
      "\n",
      "=== Dataset: Gd_ctopo_fp_skl_da_skl_bonds ===\n",
      "Removed 1874 low-variance features (kept 174 of 2048)\n"
     ]
    },
    {
     "name": "stderr",
     "output_type": "stream",
     "text": [
      "Generations:   0%|          | 47/10000 [12:57<45:44:35, 16.55s/gen]\n"
     ]
    },
    {
     "name": "stdout",
     "output_type": "stream",
     "text": [
      "  0%|          | 275/100000 [46:57<283:51:11, 10.25s/trial, best loss: 3.511565998031231] \n",
      "Results saved to results\\Gd_ctopo_fp_skl_da_skl_bonds\\all_none.json\n",
      "\n",
      "=== Dataset: Gd_ctopo_fp_topo ===\n",
      "Removed 1952 low-variance features (kept 96 of 2048)\n"
     ]
    },
    {
     "name": "stderr",
     "output_type": "stream",
     "text": [
      "Generations:   1%|          | 57/10000 [10:34<30:44:11, 11.13s/gen]\n"
     ]
    },
    {
     "name": "stdout",
     "output_type": "stream",
     "text": [
      "  0%|          | 383/100000 [49:20<213:52:36,  7.73s/trial, best loss: 3.9052129131341062]\n",
      "Results saved to results\\Gd_ctopo_fp_topo\\all_none.json\n",
      "\n",
      "=== Dataset: Gd_ctopo_fp_topo_da ===\n",
      "Removed 1895 low-variance features (kept 153 of 2048)\n"
     ]
    },
    {
     "name": "stderr",
     "output_type": "stream",
     "text": [
      "Generations:   2%|▏         | 193/10000 [29:29<24:58:33,  9.17s/gen]\n"
     ]
    },
    {
     "name": "stdout",
     "output_type": "stream",
     "text": [
      "  0%|          | 200/100000 [30:20<252:18:15,  9.10s/trial, best loss: 3.8583895484439723]\n",
      "Results saved to results\\Gd_ctopo_fp_topo_da\\all_none.json\n"
     ]
    }
   ],
   "execution_count": 12
  },
  {
   "metadata": {
    "ExecuteTime": {
     "end_time": "2025-10-10T12:39:04.193230Z",
     "start_time": "2025-10-10T12:39:04.107231Z"
    }
   },
   "cell_type": "code",
   "source": [
    "with open(\"automl_results/automl_results.json\", \"w\") as f:\n",
    "    json.dump(results, f, indent=4)"
   ],
   "id": "54222bda50559eb0",
   "outputs": [],
   "execution_count": 13
  },
  {
   "metadata": {
    "ExecuteTime": {
     "end_time": "2025-10-10T12:39:05.441236Z",
     "start_time": "2025-10-10T12:39:05.101233Z"
    }
   },
   "cell_type": "code",
   "source": [
    "def build_pipeline_summary(results_data):\n",
    "    rows = []\n",
    "    for dataset, dataset_data in results_data.items():\n",
    "        for k_percent, info in dataset_data.items():\n",
    "            fs_func = info['fs_func']\n",
    "            \n",
    "            # --- CV results, one row per fold ---\n",
    "            cv_scores = info['cv_scores']\n",
    "            if cv_scores:\n",
    "                for fold_id, metrics in cv_scores.items():\n",
    "                    # Parse pipeline JSON for this fold\n",
    "                    pipe_path = metrics['pipeline_path']\n",
    "                    if not os.path.exists(pipe_path):\n",
    "                        print(f\"Warning: missing pipeline file {pipe_path}\")\n",
    "                        continue\n",
    "                    with open(pipe_path, \"r\") as f:\n",
    "                        pipeline = json.load(f)\n",
    "    \n",
    "                    rows.append({\n",
    "                        \"dataset\": dataset,\n",
    "                        \"features_percent\": k_percent,\n",
    "                        \"fs_func\": fs_func,\n",
    "                        \"pipeline_ops\": pipeline.get(\"total_pipeline_operations\", []),\n",
    "                        \"depth\": pipeline.get(\"depth\", None),\n",
    "                        \"fold\": fold_id,\n",
    "                        \"stage\": \"cv\",  # cross-validation\n",
    "                        \"rmse\": metrics['rmse'],\n",
    "                        \"mae\": metrics['mae'],\n",
    "                        \"r2\": max(metrics['r2'], 0)\n",
    "                    })\n",
    "            \n",
    "            # --- Train/test row ---\n",
    "            test_scores = info['test_scores']\n",
    "            pipe_path = test_scores['pipeline_path']\n",
    "            if os.path.exists(pipe_path):\n",
    "                with open(pipe_path, \"r\") as f:\n",
    "                    pipeline = json.load(f)\n",
    "\n",
    "                rows.append({\n",
    "                    \"dataset\": dataset,\n",
    "                    \"features_percent\": k_percent,\n",
    "                    \"fs_func\": fs_func,\n",
    "                    \"pipeline_ops\": pipeline.get(\"total_pipeline_operations\", []),\n",
    "                    \"depth\": pipeline.get(\"depth\", None),\n",
    "                    \"fold\": None,\n",
    "                    \"stage\": \"train_test\",  # final evaluation\n",
    "                    \"rmse\": test_scores[\"rmse\"],\n",
    "                    \"mae\": test_scores[\"mae\"],\n",
    "                    \"r2\": test_scores[\"r2\"]\n",
    "                })\n",
    "\n",
    "    return pd.DataFrame(rows)\n",
    "\n",
    "summary_df = build_pipeline_summary(results)"
   ],
   "id": "f4e961da92d2d804",
   "outputs": [],
   "execution_count": 14
  },
  {
   "metadata": {
    "ExecuteTime": {
     "end_time": "2025-10-10T12:39:06.354240Z",
     "start_time": "2025-10-10T12:39:06.284239Z"
    }
   },
   "cell_type": "code",
   "source": "summary_df.to_csv(\"automl_results/pipeline_summary.csv\", index=False)",
   "id": "f13acf099763854a",
   "outputs": [],
   "execution_count": 15
  },
  {
   "metadata": {
    "ExecuteTime": {
     "end_time": "2025-10-10T12:39:06.555234Z",
     "start_time": "2025-10-10T12:39:06.528231Z"
    }
   },
   "cell_type": "code",
   "source": "train_test_df = summary_df[summary_df['stage'] == 'train_test']",
   "id": "edddb0d0f11cfd4c",
   "outputs": [],
   "execution_count": 16
  },
  {
   "metadata": {
    "ExecuteTime": {
     "end_time": "2025-10-10T12:39:06.745269Z",
     "start_time": "2025-10-10T12:39:06.709268Z"
    }
   },
   "cell_type": "code",
   "source": [
    "with open(\"baseline_results.json\", \"r\") as f:\n",
    "    baseline_data = json.load(f)"
   ],
   "id": "b3d8b71c4bc2453a",
   "outputs": [],
   "execution_count": 17
  },
  {
   "metadata": {
    "ExecuteTime": {
     "end_time": "2025-10-10T12:39:07.029264Z",
     "start_time": "2025-10-10T12:39:07.017267Z"
    }
   },
   "cell_type": "code",
   "source": [
    "baseline_records = []\n",
    "for dataset, metrics in baseline_data.items():\n",
    "    baseline_records.append({\n",
    "        \"dataset\": dataset[:-4],  # remove .csv suffix\n",
    "        \"baseline_rmse\": np.sqrt(metrics['holdout_metrics']['RMSE']),\n",
    "        \"baseline_mae\": metrics['holdout_metrics']['MAE'],\n",
    "        \"baseline_r2\": max(metrics['holdout_metrics']['R2'], 0)\n",
    "    })\n",
    "baseline_records = pd.DataFrame(baseline_records)"
   ],
   "id": "a1afeec505e13726",
   "outputs": [],
   "execution_count": 18
  },
  {
   "metadata": {
    "ExecuteTime": {
     "end_time": "2025-10-10T12:39:07.516273Z",
     "start_time": "2025-10-10T12:39:07.474273Z"
    }
   },
   "cell_type": "code",
   "source": "train_test_df = train_test_df.merge(baseline_records, on=\"dataset\", how=\"left\")",
   "id": "fb6fbc83b4169fb",
   "outputs": [],
   "execution_count": 19
  },
  {
   "metadata": {
    "ExecuteTime": {
     "end_time": "2025-10-10T12:39:07.890266Z",
     "start_time": "2025-10-10T12:39:07.876265Z"
    }
   },
   "cell_type": "code",
   "source": "train_test_df.to_csv(\"automl_results/results_comparison.csv\", index=False)",
   "id": "305bcae67a34836b",
   "outputs": [],
   "execution_count": 20
  },
  {
   "metadata": {},
   "cell_type": "code",
   "outputs": [],
   "execution_count": null,
   "source": "",
   "id": "b9bdae56f810f8ea"
  }
 ],
 "metadata": {
  "kernelspec": {
   "display_name": "Python 3",
   "language": "python",
   "name": "python3"
  },
  "language_info": {
   "codemirror_mode": {
    "name": "ipython",
    "version": 2
   },
   "file_extension": ".py",
   "mimetype": "text/x-python",
   "name": "python",
   "nbconvert_exporter": "python",
   "pygments_lexer": "ipython2",
   "version": "2.7.6"
  }
 },
 "nbformat": 4,
 "nbformat_minor": 5
}
