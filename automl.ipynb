{
 "cells": [
  {
   "metadata": {
    "ExecuteTime": {
     "end_time": "2025-09-24T11:54:18.828717Z",
     "start_time": "2025-09-24T11:54:18.809726Z"
    }
   },
   "cell_type": "code",
   "source": [
    "import numpy as np\n",
    "from sklearn.feature_selection import f_regression\n",
    "from fedot.core.pipelines.node import PipelineNode\n",
    "from fedot.core.pipelines.pipeline import Pipeline\n",
    "import os\n",
    "import json\n",
    "import pandas as pd\n",
    "from matplotlib import pyplot as plt\n",
    "\n",
    "from utils import seed_everything\n",
    "from utils import load_datasets\n",
    "from pipeline import FedotPipeline"
   ],
   "id": "b31d938c5298717f",
   "outputs": [],
   "execution_count": 9
  },
  {
   "metadata": {},
   "cell_type": "code",
   "source": "!unzip Gd_fps.zip",
   "id": "eae6eee72381cdc1",
   "outputs": [],
   "execution_count": null
  },
  {
   "metadata": {
    "ExecuteTime": {
     "end_time": "2025-09-24T11:54:20.693446Z",
     "start_time": "2025-09-24T11:54:20.676458Z"
    }
   },
   "cell_type": "code",
   "source": "SEED = 42",
   "id": "c68ea17ef592ceab",
   "outputs": [],
   "execution_count": 10
  },
  {
   "metadata": {
    "ExecuteTime": {
     "end_time": "2025-09-24T11:54:20.867454Z",
     "start_time": "2025-09-24T11:54:20.855459Z"
    }
   },
   "cell_type": "code",
   "source": "seed_everything(SEED)",
   "id": "ba76d8f4746216bb",
   "outputs": [],
   "execution_count": 11
  },
  {
   "metadata": {
    "ExecuteTime": {
     "end_time": "2025-09-24T11:54:24.119447Z",
     "start_time": "2025-09-24T11:54:21.027461Z"
    }
   },
   "cell_type": "code",
   "source": "datasets = load_datasets(\"Gd_fps\")",
   "id": "a8e0e258f244a1a9",
   "outputs": [],
   "execution_count": 12
  },
  {
   "metadata": {
    "ExecuteTime": {
     "end_time": "2025-09-24T11:54:24.151446Z",
     "start_time": "2025-09-24T11:54:24.132458Z"
    }
   },
   "cell_type": "code",
   "source": [
    "from fedot.core.pipelines.pipeline_builder import PipelineBuilder\n",
    "\n",
    "fedot_kwargs = dict(\n",
    "    problem='regression',\n",
    "    timeout=60,\n",
    "    n_jobs=-1,\n",
    "    logging_level=50,\n",
    "    initial_assumption=PipelineBuilder().add_node('lgbmreg').build(),\n",
    ")"
   ],
   "id": "bc689df239dcb3ee",
   "outputs": [],
   "execution_count": 13
  },
  {
   "metadata": {
    "ExecuteTime": {
     "end_time": "2025-09-24T11:54:24.213446Z",
     "start_time": "2025-09-24T11:54:24.202455Z"
    }
   },
   "cell_type": "code",
   "source": "n_splits = 5",
   "id": "cb7bf5f73dab08d7",
   "outputs": [],
   "execution_count": 14
  },
  {
   "metadata": {
    "ExecuteTime": {
     "end_time": "2025-09-24T11:54:24.277458Z",
     "start_time": "2025-09-24T11:54:24.265464Z"
    }
   },
   "cell_type": "code",
   "source": [
    "pipeline = FedotPipeline(\n",
    "    datasets=datasets,\n",
    "    target_col=\"lgK\",\n",
    "    results_dir='results',\n",
    "    n_splits=n_splits,\n",
    "    seed=SEED,\n",
    "    var_threshold=0.01,\n",
    "    fs_func=None,\n",
    "    k_percents=None,\n",
    "    fedot_kwargs=fedot_kwargs,\n",
    ")"
   ],
   "id": "1bac0a9165d157dc",
   "outputs": [],
   "execution_count": 15
  },
  {
   "metadata": {
    "ExecuteTime": {
     "end_time": "2025-09-24T20:58:06.072168Z",
     "start_time": "2025-09-24T11:54:24.346461Z"
    }
   },
   "cell_type": "code",
   "source": "all_results = pipeline.run()",
   "id": "25ceeafbb4f76067",
   "outputs": [
    {
     "name": "stdout",
     "output_type": "stream",
     "text": [
      "Removed 1781 low-variance features (kept 267 of 2048)\n",
      "\n",
      "=== Dataset: Gd_ctopo_fp_cmplx | Samples: 217 | Features: 267 ===\n",
      "Loading cached results for Gd_ctopo_fp_cmplx, key=all, fs=none\n",
      "Removed 1771 low-variance features (kept 277 of 2048)\n",
      "\n",
      "=== Dataset: Gd_ctopo_fp_cmplx_da | Samples: 217 | Features: 277 ===\n",
      "Loading cached results for Gd_ctopo_fp_cmplx_da, key=all, fs=none\n",
      "Removed 1763 low-variance features (kept 285 of 2048)\n",
      "\n",
      "=== Dataset: Gd_ctopo_fp_cmplx_da_bonds | Samples: 217 | Features: 285 ===\n",
      "Loading cached results for Gd_ctopo_fp_cmplx_da_bonds, key=all, fs=none\n",
      "Removed 1754 low-variance features (kept 294 of 2048)\n",
      "\n",
      "=== Dataset: Gd_ctopo_fp_cmplx_da_sub | Samples: 217 | Features: 294 ===\n",
      "Loading cached results for Gd_ctopo_fp_cmplx_da_sub, key=all, fs=none\n",
      "Removed 1750 low-variance features (kept 298 of 2048)\n",
      "\n",
      "=== Dataset: Gd_ctopo_fp_cmplx_da_sub_bonds | Samples: 217 | Features: 298 ===\n",
      "Loading cached results for Gd_ctopo_fp_cmplx_da_sub_bonds, key=all, fs=none\n",
      "Removed 1747 low-variance features (kept 301 of 2048)\n",
      "\n",
      "=== Dataset: Gd_ctopo_fp_cmplx_full | Samples: 217 | Features: 301 ===\n"
     ]
    },
    {
     "name": "stderr",
     "output_type": "stream",
     "text": [
      "Generations:   1%|          | 59/10000 [35:24<99:26:53, 36.01s/gen] \n"
     ]
    },
    {
     "name": "stdout",
     "output_type": "stream",
     "text": [
      "  0%|          | 93/100000 [24:38<441:09:04, 15.90s/trial, best loss: 3.675181692323722] \n",
      "Test RMSE: 3.6977, R2: 0.2952, MAE: 2.8703\n",
      "Pipeline saved to results\\Gd_ctopo_fp_cmplx_full\\all_none_train_test_pipeline.json\n",
      "Results saved to results\\Gd_ctopo_fp_cmplx_full\\all_none.json\n",
      "Removed 1786 low-variance features (kept 262 of 2048)\n",
      "\n",
      "=== Dataset: Gd_ctopo_fp_ligand | Samples: 217 | Features: 262 ===\n"
     ]
    },
    {
     "name": "stderr",
     "output_type": "stream",
     "text": [
      "Generations:   0%|          | 19/10000 [20:52<182:44:06, 65.91s/gen]\n"
     ]
    },
    {
     "name": "stdout",
     "output_type": "stream",
     "text": [
      "  0%|          | 59/100000 [39:03<1102:27:37, 39.71s/trial, best loss: 3.561054738938702] \n",
      "Test RMSE: 3.8273, R2: 0.2450, MAE: 3.1352\n",
      "Pipeline saved to results\\Gd_ctopo_fp_ligand\\all_none_train_test_pipeline.json\n",
      "Results saved to results\\Gd_ctopo_fp_ligand\\all_none.json\n",
      "Removed 1997 low-variance features (kept 51 of 2048)\n",
      "\n",
      "=== Dataset: Gd_ctopo_fp_skl | Samples: 217 | Features: 51 ===\n"
     ]
    },
    {
     "name": "stderr",
     "output_type": "stream",
     "text": [
      "Generations:   1%|          | 51/10000 [10:39<34:38:59, 12.54s/gen]\n"
     ]
    },
    {
     "name": "stdout",
     "output_type": "stream",
     "text": [
      "  1%|          | 1169/100000 [49:18<69:28:04,  2.53s/trial, best loss: 3.976822569165903] \n",
      "Test RMSE: 3.7398, R2: 0.2791, MAE: 3.0081\n",
      "Pipeline saved to results\\Gd_ctopo_fp_skl\\all_none_train_test_pipeline.json\n",
      "Results saved to results\\Gd_ctopo_fp_skl\\all_none.json\n",
      "Removed 1959 low-variance features (kept 89 of 2048)\n",
      "\n",
      "=== Dataset: Gd_ctopo_fp_skl_da | Samples: 217 | Features: 89 ===\n"
     ]
    },
    {
     "name": "stderr",
     "output_type": "stream",
     "text": [
      "Generations:   1%|          | 83/10000 [26:10<52:08:19, 18.93s/gen]\n"
     ]
    },
    {
     "name": "stdout",
     "output_type": "stream",
     "text": [
      "  0%|          | 337/100000 [33:42<166:10:37,  6.00s/trial, best loss: 3.8240490206237077]\n",
      "Test RMSE: 3.9530, R2: 0.1945, MAE: 3.0127\n",
      "Pipeline saved to results\\Gd_ctopo_fp_skl_da\\all_none_train_test_pipeline.json\n",
      "Results saved to results\\Gd_ctopo_fp_skl_da\\all_none.json\n",
      "Removed 1934 low-variance features (kept 114 of 2048)\n",
      "\n",
      "=== Dataset: Gd_ctopo_fp_skl_da_bonds | Samples: 217 | Features: 114 ===\n"
     ]
    },
    {
     "name": "stderr",
     "output_type": "stream",
     "text": [
      "Generations:   1%|          | 58/10000 [18:26<52:42:20, 19.08s/gen]\n"
     ]
    },
    {
     "name": "stdout",
     "output_type": "stream",
     "text": [
      "  0%|          | 462/100000 [41:30<149:03:19,  5.39s/trial, best loss: 3.529449780848002]\n",
      "Test RMSE: 3.9347, R2: 0.2020, MAE: 3.1448\n",
      "Pipeline saved to results\\Gd_ctopo_fp_skl_da_bonds\\all_none_train_test_pipeline.json\n",
      "Results saved to results\\Gd_ctopo_fp_skl_da_bonds\\all_none.json\n",
      "Removed 1944 low-variance features (kept 104 of 2048)\n",
      "\n",
      "=== Dataset: Gd_ctopo_fp_skl_da_skl | Samples: 217 | Features: 104 ===\n"
     ]
    },
    {
     "name": "stderr",
     "output_type": "stream",
     "text": [
      "Generations:   1%|          | 54/10000 [13:44<42:12:19, 15.28s/gen]\n"
     ]
    },
    {
     "name": "stdout",
     "output_type": "stream",
     "text": [
      "  0%|          | 499/100000 [46:08<153:21:41,  5.55s/trial, best loss: 3.7290162423039703]\n",
      "Test RMSE: 3.8291, R2: 0.2442, MAE: 3.0398\n",
      "Pipeline saved to results\\Gd_ctopo_fp_skl_da_skl\\all_none_train_test_pipeline.json\n",
      "Results saved to results\\Gd_ctopo_fp_skl_da_skl\\all_none.json\n",
      "Removed 1924 low-variance features (kept 124 of 2048)\n",
      "\n",
      "=== Dataset: Gd_ctopo_fp_skl_da_skl_bonds | Samples: 217 | Features: 124 ===\n"
     ]
    },
    {
     "name": "stderr",
     "output_type": "stream",
     "text": [
      "Generations:   1%|▏         | 138/10000 [35:57<42:49:46, 15.63s/gen]\n"
     ]
    },
    {
     "name": "stdout",
     "output_type": "stream",
     "text": [
      "  0%|          | 256/100000 [23:58<155:43:22,  5.62s/trial, best loss: 3.42534562784142]\n",
      "Test RMSE: 3.7913, R2: 0.2591, MAE: 3.0633\n",
      "Pipeline saved to results\\Gd_ctopo_fp_skl_da_skl_bonds\\all_none_train_test_pipeline.json\n",
      "Results saved to results\\Gd_ctopo_fp_skl_da_skl_bonds\\all_none.json\n",
      "Removed 1987 low-variance features (kept 61 of 2048)\n",
      "\n",
      "=== Dataset: Gd_ctopo_fp_topo | Samples: 217 | Features: 61 ===\n"
     ]
    },
    {
     "name": "stderr",
     "output_type": "stream",
     "text": [
      "Generations:   2%|▏         | 165/10000 [36:04<35:49:53, 13.12s/gen]\n"
     ]
    },
    {
     "name": "stdout",
     "output_type": "stream",
     "text": [
      "  0%|          | 117/100000 [23:45<337:56:10, 12.18s/trial, best loss: 3.8519276229767043]\n",
      "Test RMSE: 4.4091, R2: -0.0021, MAE: 3.7133\n",
      "Pipeline saved to results\\Gd_ctopo_fp_topo\\all_none_train_test_pipeline.json\n",
      "Results saved to results\\Gd_ctopo_fp_topo\\all_none.json\n",
      "Removed 1963 low-variance features (kept 85 of 2048)\n",
      "\n",
      "=== Dataset: Gd_ctopo_fp_topo_da | Samples: 217 | Features: 85 ===\n"
     ]
    },
    {
     "name": "stderr",
     "output_type": "stream",
     "text": [
      "Generations:   1%|▏         | 137/10000 [35:46<42:55:09, 15.67s/gen]\n"
     ]
    },
    {
     "name": "stdout",
     "output_type": "stream",
     "text": [
      "  0%|          | 80/100000 [24:02<500:34:42, 18.04s/trial, best loss: 3.8476234435886014]\n",
      "Test RMSE: 4.0192, R2: 0.1673, MAE: 3.2033\n",
      "Pipeline saved to results\\Gd_ctopo_fp_topo_da\\all_none_train_test_pipeline.json\n",
      "Results saved to results\\Gd_ctopo_fp_topo_da\\all_none.json\n"
     ]
    }
   ],
   "execution_count": 16
  },
  {
   "metadata": {
    "ExecuteTime": {
     "end_time": "2025-09-25T13:27:05.462170Z",
     "start_time": "2025-09-25T13:27:05.383175Z"
    }
   },
   "cell_type": "code",
   "source": "all_results",
   "id": "37f7d6bcd9939b56",
   "outputs": [
    {
     "data": {
      "text/plain": [
       "{'Gd_ctopo_fp_cmplx': {'all': {'fs_func': 'none',\n",
       "   'k_percent': None,\n",
       "   'results': {'cv_scores': {},\n",
       "    'test_rmse': 3.7514166665947557,\n",
       "    'test_r2': 0.2745855843087137,\n",
       "    'test_mae': 2.954855009229709,\n",
       "    'pipeline_path': 'results\\\\Gd_ctopo_fp_cmplx\\\\all_none_train_test_pipeline.json'}}},\n",
       " 'Gd_ctopo_fp_cmplx_da': {'all': {'fs_func': 'none',\n",
       "   'k_percent': None,\n",
       "   'results': {'cv_scores': {},\n",
       "    'test_rmse': 3.7803283197390267,\n",
       "    'test_r2': 0.2633611591972326,\n",
       "    'test_mae': 3.0078119605775413,\n",
       "    'pipeline_path': 'results\\\\Gd_ctopo_fp_cmplx_da\\\\all_none_train_test_pipeline.json'}}},\n",
       " 'Gd_ctopo_fp_cmplx_da_bonds': {'all': {'fs_func': 'none',\n",
       "   'k_percent': None,\n",
       "   'results': {'cv_scores': {},\n",
       "    'test_rmse': 3.7925831828591448,\n",
       "    'test_r2': 0.25857742631528247,\n",
       "    'test_mae': 3.131402412096099,\n",
       "    'pipeline_path': 'results\\\\Gd_ctopo_fp_cmplx_da_bonds\\\\all_none_train_test_pipeline.json'}}},\n",
       " 'Gd_ctopo_fp_cmplx_da_sub': {'all': {'fs_func': 'none',\n",
       "   'k_percent': None,\n",
       "   'results': {'cv_scores': {},\n",
       "    'test_rmse': 3.6309629159112236,\n",
       "    'test_r2': 0.3204221714646258,\n",
       "    'test_mae': 2.9255414420243144,\n",
       "    'pipeline_path': 'results\\\\Gd_ctopo_fp_cmplx_da_sub\\\\all_none_train_test_pipeline.json'}}},\n",
       " 'Gd_ctopo_fp_cmplx_da_sub_bonds': {'all': {'fs_func': 'none',\n",
       "   'k_percent': None,\n",
       "   'results': {'cv_scores': {},\n",
       "    'test_rmse': 3.5698219278680705,\n",
       "    'test_r2': 0.34311600484770033,\n",
       "    'test_mae': 2.9261761132572612,\n",
       "    'pipeline_path': 'results\\\\Gd_ctopo_fp_cmplx_da_sub_bonds\\\\all_none_train_test_pipeline.json'}}},\n",
       " 'Gd_ctopo_fp_cmplx_full': {'all': {'fs_func': 'none',\n",
       "   'k_percent': None,\n",
       "   'results': {'cv_scores': {},\n",
       "    'test_rmse': 3.6977451499176097,\n",
       "    'test_r2': 0.29519410654273515,\n",
       "    'test_mae': 2.870305603057077,\n",
       "    'pipeline_path': 'results\\\\Gd_ctopo_fp_cmplx_full\\\\all_none_train_test_pipeline.json'}}},\n",
       " 'Gd_ctopo_fp_ligand': {'all': {'fs_func': 'none',\n",
       "   'k_percent': None,\n",
       "   'results': {'cv_scores': {},\n",
       "    'test_rmse': 3.8272526134528984,\n",
       "    'test_r2': 0.24496022380366045,\n",
       "    'test_mae': 3.1352436259095438,\n",
       "    'pipeline_path': 'results\\\\Gd_ctopo_fp_ligand\\\\all_none_train_test_pipeline.json'}}},\n",
       " 'Gd_ctopo_fp_skl': {'all': {'fs_func': 'none',\n",
       "   'k_percent': None,\n",
       "   'results': {'cv_scores': {},\n",
       "    'test_rmse': 3.739803348408386,\n",
       "    'test_r2': 0.2790699854274492,\n",
       "    'test_mae': 3.0081081089168964,\n",
       "    'pipeline_path': 'results\\\\Gd_ctopo_fp_skl\\\\all_none_train_test_pipeline.json'}}},\n",
       " 'Gd_ctopo_fp_skl_da': {'all': {'fs_func': 'none',\n",
       "   'k_percent': None,\n",
       "   'results': {'cv_scores': {},\n",
       "    'test_rmse': 3.952953729223585,\n",
       "    'test_r2': 0.19454916459936855,\n",
       "    'test_mae': 3.012710712853703,\n",
       "    'pipeline_path': 'results\\\\Gd_ctopo_fp_skl_da\\\\all_none_train_test_pipeline.json'}}},\n",
       " 'Gd_ctopo_fp_skl_da_bonds': {'all': {'fs_func': 'none',\n",
       "   'k_percent': None,\n",
       "   'results': {'cv_scores': {},\n",
       "    'test_rmse': 3.934744488880373,\n",
       "    'test_r2': 0.20195267497071479,\n",
       "    'test_mae': 3.144820885151447,\n",
       "    'pipeline_path': 'results\\\\Gd_ctopo_fp_skl_da_bonds\\\\all_none_train_test_pipeline.json'}}},\n",
       " 'Gd_ctopo_fp_skl_da_skl': {'all': {'fs_func': 'none',\n",
       "   'k_percent': None,\n",
       "   'results': {'cv_scores': {},\n",
       "    'test_rmse': 3.829146279280523,\n",
       "    'test_r2': 0.244212874784957,\n",
       "    'test_mae': 3.03975534625583,\n",
       "    'pipeline_path': 'results\\\\Gd_ctopo_fp_skl_da_skl\\\\all_none_train_test_pipeline.json'}}},\n",
       " 'Gd_ctopo_fp_skl_da_skl_bonds': {'all': {'fs_func': 'none',\n",
       "   'k_percent': None,\n",
       "   'results': {'cv_scores': {},\n",
       "    'test_rmse': 3.7912605633728846,\n",
       "    'test_r2': 0.2590944612259536,\n",
       "    'test_mae': 3.063326790330961,\n",
       "    'pipeline_path': 'results\\\\Gd_ctopo_fp_skl_da_skl_bonds\\\\all_none_train_test_pipeline.json'}}},\n",
       " 'Gd_ctopo_fp_topo': {'all': {'fs_func': 'none',\n",
       "   'k_percent': None,\n",
       "   'results': {'cv_scores': {},\n",
       "    'test_rmse': 4.409081752745388,\n",
       "    'test_r2': -0.0020557346383187625,\n",
       "    'test_mae': 3.713324494230059,\n",
       "    'pipeline_path': 'results\\\\Gd_ctopo_fp_topo\\\\all_none_train_test_pipeline.json'}}},\n",
       " 'Gd_ctopo_fp_topo_da': {'all': {'fs_func': 'none',\n",
       "   'k_percent': None,\n",
       "   'results': {'cv_scores': {},\n",
       "    'test_rmse': 4.019183014663401,\n",
       "    'test_r2': 0.16733340979934097,\n",
       "    'test_mae': 3.203297303425512,\n",
       "    'pipeline_path': 'results\\\\Gd_ctopo_fp_topo_da\\\\all_none_train_test_pipeline.json'}}}}"
      ]
     },
     "execution_count": 17,
     "metadata": {},
     "output_type": "execute_result"
    }
   ],
   "execution_count": 17
  },
  {
   "metadata": {
    "ExecuteTime": {
     "end_time": "2025-09-25T13:27:26.034962Z",
     "start_time": "2025-09-25T13:27:26.005974Z"
    }
   },
   "cell_type": "code",
   "source": [
    "with open(\"automl_results/automl_results.json\", \"w\") as f:\n",
    "    json.dump(all_results, f, indent=4)"
   ],
   "id": "54222bda50559eb0",
   "outputs": [],
   "execution_count": 18
  },
  {
   "metadata": {},
   "cell_type": "code",
   "source": [
    "def plot_by_percent(data: dict):\n",
    "    records = []\n",
    "    for dataset, dataset_data in data.items():\n",
    "        for k_percent, info in dataset_data.items():\n",
    "            fs_func = info['fs_func']\n",
    "            k_val = k_percent\n",
    "            for fold, metrics in info['results']['cv_scores'].items():\n",
    "                r2 = max(metrics['r2'], 0)\n",
    "                records.append({\n",
    "                    'dataset': dataset,\n",
    "                    'k_percent': k_val,\n",
    "                    'fold': fold,\n",
    "                    'rmse': metrics['rmse'],\n",
    "                    'r2': r2,\n",
    "                    'mae': metrics['mae'],\n",
    "                    'fs_func': fs_func\n",
    "                })\n",
    "    \n",
    "    df = pd.DataFrame(records)\n",
    "\n",
    "    for k_val in df['k_percent'].unique():\n",
    "        subset = df[df['k_percent'] == k_val]\n",
    "        fs_func = subset['fs_func'].iloc[0] if not subset.empty else \"unknown\"\n",
    "        for metric in ['rmse', 'mae', 'r2']:\n",
    "            plt.figure(figsize=(20, 6))\n",
    "            subset.boxplot(column=metric, by=\"dataset\")\n",
    "            plt.title(f\"Feature percent={k_val} | Metric={metric.upper()} | fs_func={fs_func}\")\n",
    "            plt.suptitle(\"\")\n",
    "            plt.xlabel(\"Dataset\")\n",
    "            plt.ylabel(metric.upper())\n",
    "            plt.xticks(rotation=90)\n",
    "            # plt.tight_layout()\n",
    "            plt.show()\n",
    "\n",
    "plot_by_percent(all_results)"
   ],
   "id": "f5bdf532af6ffed2",
   "outputs": [],
   "execution_count": null
  },
  {
   "metadata": {
    "ExecuteTime": {
     "end_time": "2025-09-25T13:37:23.460331Z",
     "start_time": "2025-09-25T13:37:23.434320Z"
    }
   },
   "cell_type": "code",
   "source": [
    "def build_pipeline_summary(results_data, base_path=\"results\"):\n",
    "    rows = []\n",
    "    for dataset, dataset_data in results_data.items():\n",
    "        for k_percent, info in dataset_data.items():\n",
    "            fs_func = info['fs_func']\n",
    "            res = info['results']\n",
    "            \n",
    "            # --- CV results, one row per fold ---\n",
    "            cv_scores = res['cv_scores']\n",
    "            for fold_id, metrics in cv_scores.items():\n",
    "                # Parse pipeline JSON for this fold\n",
    "                pipe_path = metrics['pipeline_path']\n",
    "                if not os.path.exists(pipe_path):\n",
    "                    print(f\"Warning: missing pipeline file {pipe_path}\")\n",
    "                    continue\n",
    "                with open(pipe_path, \"r\") as f:\n",
    "                    pipeline = json.load(f)\n",
    "\n",
    "                rows.append({\n",
    "                    \"dataset\": dataset,\n",
    "                    \"features_percent\": k_percent,\n",
    "                    \"fs_func\": fs_func,\n",
    "                    \"pipeline_ops\": pipeline.get(\"total_pipeline_operations\", []),\n",
    "                    \"depth\": pipeline.get(\"depth\", None),\n",
    "                    \"fold\": fold_id,\n",
    "                    \"stage\": \"cv\",  # cross-validation\n",
    "                    \"rmse\": metrics['rmse'],\n",
    "                    \"mae\": metrics['mae'],\n",
    "                    \"r2\": max(metrics['r2'], 0)\n",
    "                })\n",
    "            \n",
    "            # --- Train/test row ---\n",
    "            pipe_path = res['pipeline_path']\n",
    "            if os.path.exists(pipe_path):\n",
    "                with open(pipe_path, \"r\") as f:\n",
    "                    pipeline = json.load(f)\n",
    "\n",
    "                rows.append({\n",
    "                    \"dataset\": dataset,\n",
    "                    \"features_percent\": k_percent,\n",
    "                    \"fs_func\": fs_func,\n",
    "                    \"pipeline_ops\": pipeline.get(\"total_pipeline_operations\", []),\n",
    "                    \"depth\": pipeline.get(\"depth\", None),\n",
    "                    \"fold\": None,\n",
    "                    \"stage\": \"train_test\",  # final evaluation\n",
    "                    \"rmse\": res.get('test_rmse', None),\n",
    "                    \"mae\": res.get('test_mae', None),\n",
    "                    \"r2\": max(res.get('test_r2', 0), 0)\n",
    "                })\n",
    "\n",
    "    return pd.DataFrame(rows)\n",
    "\n",
    "summary_df = build_pipeline_summary(all_results)"
   ],
   "id": "f4e961da92d2d804",
   "outputs": [],
   "execution_count": 30
  },
  {
   "metadata": {
    "ExecuteTime": {
     "end_time": "2025-09-25T13:37:23.811317Z",
     "start_time": "2025-09-25T13:37:23.794318Z"
    }
   },
   "cell_type": "code",
   "source": "summary_df.to_csv(\"automl_results/pipeline_summary.csv\", index=False)",
   "id": "f13acf099763854a",
   "outputs": [],
   "execution_count": 31
  },
  {
   "metadata": {
    "ExecuteTime": {
     "end_time": "2025-09-25T13:37:25.625601Z",
     "start_time": "2025-09-25T13:37:25.603600Z"
    }
   },
   "cell_type": "code",
   "source": "train_test_df = summary_df[summary_df['stage'] == 'train_test']",
   "id": "edddb0d0f11cfd4c",
   "outputs": [],
   "execution_count": 32
  },
  {
   "metadata": {
    "ExecuteTime": {
     "end_time": "2025-09-25T13:37:26.182605Z",
     "start_time": "2025-09-25T13:37:26.146603Z"
    }
   },
   "cell_type": "code",
   "source": "summary_df",
   "id": "fd7d7689b6cdbb3",
   "outputs": [
    {
     "data": {
      "text/plain": [
       "                           dataset features_percent fs_func  \\\n",
       "0                Gd_ctopo_fp_cmplx              all    none   \n",
       "1             Gd_ctopo_fp_cmplx_da              all    none   \n",
       "2       Gd_ctopo_fp_cmplx_da_bonds              all    none   \n",
       "3         Gd_ctopo_fp_cmplx_da_sub              all    none   \n",
       "4   Gd_ctopo_fp_cmplx_da_sub_bonds              all    none   \n",
       "5           Gd_ctopo_fp_cmplx_full              all    none   \n",
       "6               Gd_ctopo_fp_ligand              all    none   \n",
       "7                  Gd_ctopo_fp_skl              all    none   \n",
       "8               Gd_ctopo_fp_skl_da              all    none   \n",
       "9         Gd_ctopo_fp_skl_da_bonds              all    none   \n",
       "10          Gd_ctopo_fp_skl_da_skl              all    none   \n",
       "11    Gd_ctopo_fp_skl_da_skl_bonds              all    none   \n",
       "12                Gd_ctopo_fp_topo              all    none   \n",
       "13             Gd_ctopo_fp_topo_da              all    none   \n",
       "\n",
       "                                         pipeline_ops  depth  fold  \\\n",
       "0   [resample, isolation_forest_reg, ransac_lin_re...      4  None   \n",
       "1                                               [svr]      1  None   \n",
       "2          [lgbmreg, pca, ransac_non_lin_reg, linear]      3  None   \n",
       "3                                             [ridge]      1  None   \n",
       "4                                             [ridge]      1  None   \n",
       "5   [resample, normalization, sgdr, poly_features,...      6  None   \n",
       "6                [lgbmreg, isolation_forest_reg, svr]      2  None   \n",
       "7                                             [ridge]      1  None   \n",
       "8   [resample, poly_features, ransac_lin_reg, sgdr...      5  None   \n",
       "9                                             [ridge]      1  None   \n",
       "10                             [poly_features, ridge]      2  None   \n",
       "11              [resample, ridge, pca, normalization]      5  None   \n",
       "12  [resample, ridge, poly_features, normalization...      6  None   \n",
       "13  [resample, isolation_forest_reg, ransac_lin_re...      4  None   \n",
       "\n",
       "         stage      rmse       mae        r2  \n",
       "0   train_test  3.751417  2.954855  0.274586  \n",
       "1   train_test  3.780328  3.007812  0.263361  \n",
       "2   train_test  3.792583  3.131402  0.258577  \n",
       "3   train_test  3.630963  2.925541  0.320422  \n",
       "4   train_test  3.569822  2.926176  0.343116  \n",
       "5   train_test  3.697745  2.870306  0.295194  \n",
       "6   train_test  3.827253  3.135244  0.244960  \n",
       "7   train_test  3.739803  3.008108  0.279070  \n",
       "8   train_test  3.952954  3.012711  0.194549  \n",
       "9   train_test  3.934744  3.144821  0.201953  \n",
       "10  train_test  3.829146  3.039755  0.244213  \n",
       "11  train_test  3.791261  3.063327  0.259094  \n",
       "12  train_test  4.409082  3.713324  0.000000  \n",
       "13  train_test  4.019183  3.203297  0.167333  "
      ],
      "text/html": [
       "<div>\n",
       "<style scoped>\n",
       "    .dataframe tbody tr th:only-of-type {\n",
       "        vertical-align: middle;\n",
       "    }\n",
       "\n",
       "    .dataframe tbody tr th {\n",
       "        vertical-align: top;\n",
       "    }\n",
       "\n",
       "    .dataframe thead th {\n",
       "        text-align: right;\n",
       "    }\n",
       "</style>\n",
       "<table border=\"1\" class=\"dataframe\">\n",
       "  <thead>\n",
       "    <tr style=\"text-align: right;\">\n",
       "      <th></th>\n",
       "      <th>dataset</th>\n",
       "      <th>features_percent</th>\n",
       "      <th>fs_func</th>\n",
       "      <th>pipeline_ops</th>\n",
       "      <th>depth</th>\n",
       "      <th>fold</th>\n",
       "      <th>stage</th>\n",
       "      <th>rmse</th>\n",
       "      <th>mae</th>\n",
       "      <th>r2</th>\n",
       "    </tr>\n",
       "  </thead>\n",
       "  <tbody>\n",
       "    <tr>\n",
       "      <th>0</th>\n",
       "      <td>Gd_ctopo_fp_cmplx</td>\n",
       "      <td>all</td>\n",
       "      <td>none</td>\n",
       "      <td>[resample, isolation_forest_reg, ransac_lin_re...</td>\n",
       "      <td>4</td>\n",
       "      <td>None</td>\n",
       "      <td>train_test</td>\n",
       "      <td>3.751417</td>\n",
       "      <td>2.954855</td>\n",
       "      <td>0.274586</td>\n",
       "    </tr>\n",
       "    <tr>\n",
       "      <th>1</th>\n",
       "      <td>Gd_ctopo_fp_cmplx_da</td>\n",
       "      <td>all</td>\n",
       "      <td>none</td>\n",
       "      <td>[svr]</td>\n",
       "      <td>1</td>\n",
       "      <td>None</td>\n",
       "      <td>train_test</td>\n",
       "      <td>3.780328</td>\n",
       "      <td>3.007812</td>\n",
       "      <td>0.263361</td>\n",
       "    </tr>\n",
       "    <tr>\n",
       "      <th>2</th>\n",
       "      <td>Gd_ctopo_fp_cmplx_da_bonds</td>\n",
       "      <td>all</td>\n",
       "      <td>none</td>\n",
       "      <td>[lgbmreg, pca, ransac_non_lin_reg, linear]</td>\n",
       "      <td>3</td>\n",
       "      <td>None</td>\n",
       "      <td>train_test</td>\n",
       "      <td>3.792583</td>\n",
       "      <td>3.131402</td>\n",
       "      <td>0.258577</td>\n",
       "    </tr>\n",
       "    <tr>\n",
       "      <th>3</th>\n",
       "      <td>Gd_ctopo_fp_cmplx_da_sub</td>\n",
       "      <td>all</td>\n",
       "      <td>none</td>\n",
       "      <td>[ridge]</td>\n",
       "      <td>1</td>\n",
       "      <td>None</td>\n",
       "      <td>train_test</td>\n",
       "      <td>3.630963</td>\n",
       "      <td>2.925541</td>\n",
       "      <td>0.320422</td>\n",
       "    </tr>\n",
       "    <tr>\n",
       "      <th>4</th>\n",
       "      <td>Gd_ctopo_fp_cmplx_da_sub_bonds</td>\n",
       "      <td>all</td>\n",
       "      <td>none</td>\n",
       "      <td>[ridge]</td>\n",
       "      <td>1</td>\n",
       "      <td>None</td>\n",
       "      <td>train_test</td>\n",
       "      <td>3.569822</td>\n",
       "      <td>2.926176</td>\n",
       "      <td>0.343116</td>\n",
       "    </tr>\n",
       "    <tr>\n",
       "      <th>5</th>\n",
       "      <td>Gd_ctopo_fp_cmplx_full</td>\n",
       "      <td>all</td>\n",
       "      <td>none</td>\n",
       "      <td>[resample, normalization, sgdr, poly_features,...</td>\n",
       "      <td>6</td>\n",
       "      <td>None</td>\n",
       "      <td>train_test</td>\n",
       "      <td>3.697745</td>\n",
       "      <td>2.870306</td>\n",
       "      <td>0.295194</td>\n",
       "    </tr>\n",
       "    <tr>\n",
       "      <th>6</th>\n",
       "      <td>Gd_ctopo_fp_ligand</td>\n",
       "      <td>all</td>\n",
       "      <td>none</td>\n",
       "      <td>[lgbmreg, isolation_forest_reg, svr]</td>\n",
       "      <td>2</td>\n",
       "      <td>None</td>\n",
       "      <td>train_test</td>\n",
       "      <td>3.827253</td>\n",
       "      <td>3.135244</td>\n",
       "      <td>0.244960</td>\n",
       "    </tr>\n",
       "    <tr>\n",
       "      <th>7</th>\n",
       "      <td>Gd_ctopo_fp_skl</td>\n",
       "      <td>all</td>\n",
       "      <td>none</td>\n",
       "      <td>[ridge]</td>\n",
       "      <td>1</td>\n",
       "      <td>None</td>\n",
       "      <td>train_test</td>\n",
       "      <td>3.739803</td>\n",
       "      <td>3.008108</td>\n",
       "      <td>0.279070</td>\n",
       "    </tr>\n",
       "    <tr>\n",
       "      <th>8</th>\n",
       "      <td>Gd_ctopo_fp_skl_da</td>\n",
       "      <td>all</td>\n",
       "      <td>none</td>\n",
       "      <td>[resample, poly_features, ransac_lin_reg, sgdr...</td>\n",
       "      <td>5</td>\n",
       "      <td>None</td>\n",
       "      <td>train_test</td>\n",
       "      <td>3.952954</td>\n",
       "      <td>3.012711</td>\n",
       "      <td>0.194549</td>\n",
       "    </tr>\n",
       "    <tr>\n",
       "      <th>9</th>\n",
       "      <td>Gd_ctopo_fp_skl_da_bonds</td>\n",
       "      <td>all</td>\n",
       "      <td>none</td>\n",
       "      <td>[ridge]</td>\n",
       "      <td>1</td>\n",
       "      <td>None</td>\n",
       "      <td>train_test</td>\n",
       "      <td>3.934744</td>\n",
       "      <td>3.144821</td>\n",
       "      <td>0.201953</td>\n",
       "    </tr>\n",
       "    <tr>\n",
       "      <th>10</th>\n",
       "      <td>Gd_ctopo_fp_skl_da_skl</td>\n",
       "      <td>all</td>\n",
       "      <td>none</td>\n",
       "      <td>[poly_features, ridge]</td>\n",
       "      <td>2</td>\n",
       "      <td>None</td>\n",
       "      <td>train_test</td>\n",
       "      <td>3.829146</td>\n",
       "      <td>3.039755</td>\n",
       "      <td>0.244213</td>\n",
       "    </tr>\n",
       "    <tr>\n",
       "      <th>11</th>\n",
       "      <td>Gd_ctopo_fp_skl_da_skl_bonds</td>\n",
       "      <td>all</td>\n",
       "      <td>none</td>\n",
       "      <td>[resample, ridge, pca, normalization]</td>\n",
       "      <td>5</td>\n",
       "      <td>None</td>\n",
       "      <td>train_test</td>\n",
       "      <td>3.791261</td>\n",
       "      <td>3.063327</td>\n",
       "      <td>0.259094</td>\n",
       "    </tr>\n",
       "    <tr>\n",
       "      <th>12</th>\n",
       "      <td>Gd_ctopo_fp_topo</td>\n",
       "      <td>all</td>\n",
       "      <td>none</td>\n",
       "      <td>[resample, ridge, poly_features, normalization...</td>\n",
       "      <td>6</td>\n",
       "      <td>None</td>\n",
       "      <td>train_test</td>\n",
       "      <td>4.409082</td>\n",
       "      <td>3.713324</td>\n",
       "      <td>0.000000</td>\n",
       "    </tr>\n",
       "    <tr>\n",
       "      <th>13</th>\n",
       "      <td>Gd_ctopo_fp_topo_da</td>\n",
       "      <td>all</td>\n",
       "      <td>none</td>\n",
       "      <td>[resample, isolation_forest_reg, ransac_lin_re...</td>\n",
       "      <td>4</td>\n",
       "      <td>None</td>\n",
       "      <td>train_test</td>\n",
       "      <td>4.019183</td>\n",
       "      <td>3.203297</td>\n",
       "      <td>0.167333</td>\n",
       "    </tr>\n",
       "  </tbody>\n",
       "</table>\n",
       "</div>"
      ]
     },
     "execution_count": 33,
     "metadata": {},
     "output_type": "execute_result"
    }
   ],
   "execution_count": 33
  },
  {
   "metadata": {
    "ExecuteTime": {
     "end_time": "2025-09-25T13:37:30.201728Z",
     "start_time": "2025-09-25T13:37:30.187731Z"
    }
   },
   "cell_type": "code",
   "source": [
    "with open(\"baseline_results.json\", \"r\") as f:\n",
    "    baseline_data = json.load(f)"
   ],
   "id": "b3d8b71c4bc2453a",
   "outputs": [],
   "execution_count": 34
  },
  {
   "metadata": {
    "ExecuteTime": {
     "end_time": "2025-09-25T13:37:30.520241Z",
     "start_time": "2025-09-25T13:37:30.498252Z"
    }
   },
   "cell_type": "code",
   "source": [
    "baseline_records = []\n",
    "for dataset, metrics in baseline_data.items():\n",
    "    baseline_records.append({\n",
    "        \"dataset\": dataset[:-4],  # remove .csv suffix\n",
    "        \"baseline_rmse\": np.sqrt(metrics['holdout_metrics']['RMSE']),\n",
    "        \"baseline_mae\": metrics['holdout_metrics']['MAE'],\n",
    "        \"baseline_r2\": max(metrics['holdout_metrics']['R2'], 0)\n",
    "    })\n",
    "baseline_records = pd.DataFrame(baseline_records)"
   ],
   "id": "a1afeec505e13726",
   "outputs": [],
   "execution_count": 35
  },
  {
   "metadata": {
    "ExecuteTime": {
     "end_time": "2025-09-25T13:37:31.056237Z",
     "start_time": "2025-09-25T13:37:31.033241Z"
    }
   },
   "cell_type": "code",
   "source": "train_test_df = train_test_df.merge(baseline_records, on=\"dataset\", how=\"left\")",
   "id": "fb6fbc83b4169fb",
   "outputs": [],
   "execution_count": 36
  },
  {
   "metadata": {
    "ExecuteTime": {
     "end_time": "2025-09-25T13:37:31.436257Z",
     "start_time": "2025-09-25T13:37:31.414236Z"
    }
   },
   "cell_type": "code",
   "source": "train_test_df.to_csv(\"automl_results/results_comparison.csv\", index=False)",
   "id": "305bcae67a34836b",
   "outputs": [],
   "execution_count": 37
  },
  {
   "metadata": {},
   "cell_type": "code",
   "outputs": [],
   "execution_count": null,
   "source": "",
   "id": "a35a8d168a456c08"
  }
 ],
 "metadata": {
  "kernelspec": {
   "display_name": "Python 3",
   "language": "python",
   "name": "python3"
  },
  "language_info": {
   "codemirror_mode": {
    "name": "ipython",
    "version": 2
   },
   "file_extension": ".py",
   "mimetype": "text/x-python",
   "name": "python",
   "nbconvert_exporter": "python",
   "pygments_lexer": "ipython2",
   "version": "2.7.6"
  }
 },
 "nbformat": 4,
 "nbformat_minor": 5
}
